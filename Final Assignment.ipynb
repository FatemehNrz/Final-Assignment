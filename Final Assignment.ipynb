{
 "cells": [
  {
   "cell_type": "markdown",
   "id": "4a0bd764-52fe-4530-8989-8b79d1be857e",
   "metadata": {},
   "source": [
    "# My Jupyter Notebook on IBM Watson Studio"
   ]
  },
  {
   "cell_type": "markdown",
   "id": "0066b407-e015-4c9c-96de-00adc00b3e83",
   "metadata": {},
   "source": [
    "**Fatemeh**\n",
    " <br> Urban Planner"
   ]
  },
  {
   "cell_type": "markdown",
   "id": "8849adc7-3d7c-4444-9fbc-bd2f568f28fd",
   "metadata": {
    "tags": []
   },
   "source": [
    "*I am interested in data science because it helps my future career*"
   ]
  },
  {
   "cell_type": "markdown",
   "id": "4db110e7-7d75-4f17-8d59-9835d963d36d",
   "metadata": {},
   "source": [
    "### my code shows the addition of 1 and 1"
   ]
  },
  {
   "cell_type": "code",
   "execution_count": 9,
   "id": "336a7c84-a7c2-4ed7-83d0-046928995f54",
   "metadata": {
    "tags": []
   },
   "outputs": [
    {
     "name": "stdout",
     "output_type": "stream",
     "text": [
      "2\n"
     ]
    }
   ],
   "source": [
    "print (1+1)"
   ]
  },
  {
   "cell_type": "markdown",
   "id": "06b27a2a-e379-4716-ac7d-ae5d123f4041",
   "metadata": {},
   "source": [
    "\n",
    "| water/wine | trees | cloud |\n",
    "| --- | --- | --- |\n",
    "| amir | apple | 213 |\n",
    "\n",
    "~~hello windy city~~\n",
    "\n",
    "> hello my dear friends"
   ]
  }
 ],
 "metadata": {
  "kernelspec": {
   "display_name": "Python",
   "language": "python",
   "name": "conda-env-python-py"
  },
  "language_info": {
   "codemirror_mode": {
    "name": "ipython",
    "version": 3
   },
   "file_extension": ".py",
   "mimetype": "text/x-python",
   "name": "python",
   "nbconvert_exporter": "python",
   "pygments_lexer": "ipython3",
   "version": "3.7.12"
  }
 },
 "nbformat": 4,
 "nbformat_minor": 5
}
